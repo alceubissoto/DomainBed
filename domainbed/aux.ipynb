{
 "cells": [
  {
   "cell_type": "code",
   "execution_count": 13,
   "id": "solid-instruction",
   "metadata": {},
   "outputs": [],
   "source": [
    "%load_ext autoreload\n",
    "%autoreload 2"
   ]
  },
  {
   "cell_type": "code",
   "execution_count": 1,
   "id": "about-travel",
   "metadata": {},
   "outputs": [
    {
     "name": "stdout",
     "output_type": "stream",
     "text": [
      "[(), ('dark_corner',), ('hair',), ('gel_border',), ('gel_bubble',), ('ruler',), ('ink',), ('patches',), ('dark_corner', 'hair'), ('dark_corner', 'gel_border'), ('dark_corner', 'gel_bubble'), ('dark_corner', 'ruler'), ('dark_corner', 'ink'), ('dark_corner', 'patches'), ('hair', 'gel_border'), ('hair', 'gel_bubble'), ('hair', 'ruler'), ('hair', 'ink'), ('hair', 'patches'), ('gel_border', 'gel_bubble'), ('gel_border', 'ruler'), ('gel_border', 'ink'), ('gel_border', 'patches'), ('gel_bubble', 'ruler'), ('gel_bubble', 'ink'), ('gel_bubble', 'patches'), ('ruler', 'ink'), ('ruler', 'patches'), ('ink', 'patches'), ('dark_corner', 'hair', 'gel_border'), ('dark_corner', 'hair', 'gel_bubble'), ('dark_corner', 'hair', 'ruler'), ('dark_corner', 'hair', 'ink'), ('dark_corner', 'hair', 'patches'), ('dark_corner', 'gel_border', 'gel_bubble'), ('dark_corner', 'gel_border', 'ruler'), ('dark_corner', 'gel_border', 'ink'), ('dark_corner', 'gel_border', 'patches'), ('dark_corner', 'gel_bubble', 'ruler'), ('dark_corner', 'gel_bubble', 'ink'), ('dark_corner', 'gel_bubble', 'patches'), ('dark_corner', 'ruler', 'ink'), ('dark_corner', 'ruler', 'patches'), ('dark_corner', 'ink', 'patches'), ('hair', 'gel_border', 'gel_bubble'), ('hair', 'gel_border', 'ruler'), ('hair', 'gel_border', 'ink'), ('hair', 'gel_border', 'patches'), ('hair', 'gel_bubble', 'ruler'), ('hair', 'gel_bubble', 'ink'), ('hair', 'gel_bubble', 'patches'), ('hair', 'ruler', 'ink'), ('hair', 'ruler', 'patches'), ('hair', 'ink', 'patches'), ('gel_border', 'gel_bubble', 'ruler'), ('gel_border', 'gel_bubble', 'ink'), ('gel_border', 'gel_bubble', 'patches'), ('gel_border', 'ruler', 'ink'), ('gel_border', 'ruler', 'patches'), ('gel_border', 'ink', 'patches'), ('gel_bubble', 'ruler', 'ink'), ('gel_bubble', 'ruler', 'patches'), ('gel_bubble', 'ink', 'patches'), ('ruler', 'ink', 'patches'), ('dark_corner', 'hair', 'gel_border', 'gel_bubble'), ('dark_corner', 'hair', 'gel_border', 'ruler'), ('dark_corner', 'hair', 'gel_border', 'ink'), ('dark_corner', 'hair', 'gel_border', 'patches'), ('dark_corner', 'hair', 'gel_bubble', 'ruler'), ('dark_corner', 'hair', 'gel_bubble', 'ink'), ('dark_corner', 'hair', 'gel_bubble', 'patches'), ('dark_corner', 'hair', 'ruler', 'ink'), ('dark_corner', 'hair', 'ruler', 'patches'), ('dark_corner', 'hair', 'ink', 'patches'), ('dark_corner', 'gel_border', 'gel_bubble', 'ruler'), ('dark_corner', 'gel_border', 'gel_bubble', 'ink'), ('dark_corner', 'gel_border', 'gel_bubble', 'patches'), ('dark_corner', 'gel_border', 'ruler', 'ink'), ('dark_corner', 'gel_border', 'ruler', 'patches'), ('dark_corner', 'gel_border', 'ink', 'patches'), ('dark_corner', 'gel_bubble', 'ruler', 'ink'), ('dark_corner', 'gel_bubble', 'ruler', 'patches'), ('dark_corner', 'gel_bubble', 'ink', 'patches'), ('dark_corner', 'ruler', 'ink', 'patches'), ('hair', 'gel_border', 'gel_bubble', 'ruler'), ('hair', 'gel_border', 'gel_bubble', 'ink'), ('hair', 'gel_border', 'gel_bubble', 'patches'), ('hair', 'gel_border', 'ruler', 'ink'), ('hair', 'gel_border', 'ruler', 'patches'), ('hair', 'gel_border', 'ink', 'patches'), ('hair', 'gel_bubble', 'ruler', 'ink'), ('hair', 'gel_bubble', 'ruler', 'patches'), ('hair', 'gel_bubble', 'ink', 'patches'), ('hair', 'ruler', 'ink', 'patches'), ('gel_border', 'gel_bubble', 'ruler', 'ink'), ('gel_border', 'gel_bubble', 'ruler', 'patches'), ('gel_border', 'gel_bubble', 'ink', 'patches'), ('gel_border', 'ruler', 'ink', 'patches'), ('gel_bubble', 'ruler', 'ink', 'patches'), ('dark_corner', 'hair', 'gel_border', 'gel_bubble', 'ruler'), ('dark_corner', 'hair', 'gel_border', 'gel_bubble', 'ink'), ('dark_corner', 'hair', 'gel_border', 'gel_bubble', 'patches'), ('dark_corner', 'hair', 'gel_border', 'ruler', 'ink'), ('dark_corner', 'hair', 'gel_border', 'ruler', 'patches'), ('dark_corner', 'hair', 'gel_border', 'ink', 'patches'), ('dark_corner', 'hair', 'gel_bubble', 'ruler', 'ink'), ('dark_corner', 'hair', 'gel_bubble', 'ruler', 'patches'), ('dark_corner', 'hair', 'gel_bubble', 'ink', 'patches'), ('dark_corner', 'hair', 'ruler', 'ink', 'patches'), ('dark_corner', 'gel_border', 'gel_bubble', 'ruler', 'ink'), ('dark_corner', 'gel_border', 'gel_bubble', 'ruler', 'patches'), ('dark_corner', 'gel_border', 'gel_bubble', 'ink', 'patches'), ('dark_corner', 'gel_border', 'ruler', 'ink', 'patches'), ('dark_corner', 'gel_bubble', 'ruler', 'ink', 'patches'), ('hair', 'gel_border', 'gel_bubble', 'ruler', 'ink'), ('hair', 'gel_border', 'gel_bubble', 'ruler', 'patches'), ('hair', 'gel_border', 'gel_bubble', 'ink', 'patches'), ('hair', 'gel_border', 'ruler', 'ink', 'patches'), ('hair', 'gel_bubble', 'ruler', 'ink', 'patches'), ('gel_border', 'gel_bubble', 'ruler', 'ink', 'patches'), ('dark_corner', 'hair', 'gel_border', 'gel_bubble', 'ruler', 'ink'), ('dark_corner', 'hair', 'gel_border', 'gel_bubble', 'ruler', 'patches'), ('dark_corner', 'hair', 'gel_border', 'gel_bubble', 'ink', 'patches'), ('dark_corner', 'hair', 'gel_border', 'ruler', 'ink', 'patches'), ('dark_corner', 'hair', 'gel_bubble', 'ruler', 'ink', 'patches'), ('dark_corner', 'gel_border', 'gel_bubble', 'ruler', 'ink', 'patches'), ('hair', 'gel_border', 'gel_bubble', 'ruler', 'ink', 'patches'), ('dark_corner', 'hair', 'gel_border', 'gel_bubble', 'ruler', 'ink', 'patches')]\n"
     ]
    }
   ],
   "source": [
    "import itertools\n",
    "\n",
    "environments = [\"dark_corner\",\"hair\",\"gel_border\",\"gel_bubble\",\"ruler\",\"ink\",\"patches\"]\n",
    "combs = []\n",
    "for L in range(0, len(environments)+1):\n",
    "    for subset in itertools.combinations(environments, L):\n",
    "        combs.append(subset)\n",
    "print(combs)"
   ]
  },
  {
   "cell_type": "code",
   "execution_count": 5,
   "id": "precious-mistress",
   "metadata": {},
   "outputs": [
    {
     "name": "stdout",
     "output_type": "stream",
     "text": [
      "()\n"
     ]
    }
   ],
   "source": [
    "print(combs[0])"
   ]
  },
  {
   "cell_type": "code",
   "execution_count": 17,
   "id": "bigger-asthma",
   "metadata": {},
   "outputs": [
    {
     "name": "stdout",
     "output_type": "stream",
     "text": [
      "[(), ('dark_corner',), ('hair',), ('gel_border',), ('gel_bubble',), ('ruler',), ('ink',), ('patches',), ('dark_corner', 'hair'), ('dark_corner', 'gel_border'), ('dark_corner', 'gel_bubble'), ('dark_corner', 'ruler'), ('dark_corner', 'ink'), ('dark_corner', 'patches'), ('hair', 'gel_border'), ('hair', 'gel_bubble'), ('hair', 'ruler'), ('hair', 'ink'), ('hair', 'patches'), ('gel_border', 'gel_bubble'), ('gel_border', 'ruler'), ('gel_border', 'ink'), ('gel_border', 'patches'), ('gel_bubble', 'ruler'), ('gel_bubble', 'ink'), ('gel_bubble', 'patches'), ('ruler', 'ink'), ('ruler', 'patches'), ('ink', 'patches'), ('dark_corner', 'hair', 'gel_border'), ('dark_corner', 'hair', 'gel_bubble'), ('dark_corner', 'hair', 'ruler'), ('dark_corner', 'hair', 'ink'), ('dark_corner', 'hair', 'patches'), ('dark_corner', 'gel_border', 'gel_bubble'), ('dark_corner', 'gel_border', 'ruler'), ('dark_corner', 'gel_border', 'ink'), ('dark_corner', 'gel_border', 'patches'), ('dark_corner', 'gel_bubble', 'ruler'), ('dark_corner', 'gel_bubble', 'ink'), ('dark_corner', 'gel_bubble', 'patches'), ('dark_corner', 'ruler', 'ink'), ('dark_corner', 'ruler', 'patches'), ('dark_corner', 'ink', 'patches'), ('hair', 'gel_border', 'gel_bubble'), ('hair', 'gel_border', 'ruler'), ('hair', 'gel_border', 'ink'), ('hair', 'gel_border', 'patches'), ('hair', 'gel_bubble', 'ruler'), ('hair', 'gel_bubble', 'ink'), ('hair', 'gel_bubble', 'patches'), ('hair', 'ruler', 'ink'), ('hair', 'ruler', 'patches'), ('hair', 'ink', 'patches'), ('gel_border', 'gel_bubble', 'ruler'), ('gel_border', 'gel_bubble', 'ink'), ('gel_border', 'gel_bubble', 'patches'), ('gel_border', 'ruler', 'ink'), ('gel_border', 'ruler', 'patches'), ('gel_border', 'ink', 'patches'), ('gel_bubble', 'ruler', 'ink'), ('gel_bubble', 'ruler', 'patches'), ('gel_bubble', 'ink', 'patches'), ('ruler', 'ink', 'patches'), ('dark_corner', 'hair', 'gel_border', 'gel_bubble'), ('dark_corner', 'hair', 'gel_border', 'ruler'), ('dark_corner', 'hair', 'gel_border', 'ink'), ('dark_corner', 'hair', 'gel_border', 'patches'), ('dark_corner', 'hair', 'gel_bubble', 'ruler'), ('dark_corner', 'hair', 'gel_bubble', 'ink'), ('dark_corner', 'hair', 'gel_bubble', 'patches'), ('dark_corner', 'hair', 'ruler', 'ink'), ('dark_corner', 'hair', 'ruler', 'patches'), ('dark_corner', 'hair', 'ink', 'patches'), ('dark_corner', 'gel_border', 'gel_bubble', 'ruler'), ('dark_corner', 'gel_border', 'gel_bubble', 'ink'), ('dark_corner', 'gel_border', 'gel_bubble', 'patches'), ('dark_corner', 'gel_border', 'ruler', 'ink'), ('dark_corner', 'gel_border', 'ruler', 'patches'), ('dark_corner', 'gel_border', 'ink', 'patches'), ('dark_corner', 'gel_bubble', 'ruler', 'ink'), ('dark_corner', 'gel_bubble', 'ruler', 'patches'), ('dark_corner', 'gel_bubble', 'ink', 'patches'), ('dark_corner', 'ruler', 'ink', 'patches'), ('hair', 'gel_border', 'gel_bubble', 'ruler'), ('hair', 'gel_border', 'gel_bubble', 'ink'), ('hair', 'gel_border', 'gel_bubble', 'patches'), ('hair', 'gel_border', 'ruler', 'ink'), ('hair', 'gel_border', 'ruler', 'patches'), ('hair', 'gel_border', 'ink', 'patches'), ('hair', 'gel_bubble', 'ruler', 'ink'), ('hair', 'gel_bubble', 'ruler', 'patches'), ('hair', 'gel_bubble', 'ink', 'patches'), ('hair', 'ruler', 'ink', 'patches'), ('gel_border', 'gel_bubble', 'ruler', 'ink'), ('gel_border', 'gel_bubble', 'ruler', 'patches'), ('gel_border', 'gel_bubble', 'ink', 'patches'), ('gel_border', 'ruler', 'ink', 'patches'), ('gel_bubble', 'ruler', 'ink', 'patches'), ('dark_corner', 'hair', 'gel_border', 'gel_bubble', 'ruler'), ('dark_corner', 'hair', 'gel_border', 'gel_bubble', 'ink'), ('dark_corner', 'hair', 'gel_border', 'gel_bubble', 'patches'), ('dark_corner', 'hair', 'gel_border', 'ruler', 'ink'), ('dark_corner', 'hair', 'gel_border', 'ruler', 'patches'), ('dark_corner', 'hair', 'gel_border', 'ink', 'patches'), ('dark_corner', 'hair', 'gel_bubble', 'ruler', 'ink'), ('dark_corner', 'hair', 'gel_bubble', 'ruler', 'patches'), ('dark_corner', 'hair', 'gel_bubble', 'ink', 'patches'), ('dark_corner', 'hair', 'ruler', 'ink', 'patches'), ('dark_corner', 'gel_border', 'gel_bubble', 'ruler', 'ink'), ('dark_corner', 'gel_border', 'gel_bubble', 'ruler', 'patches'), ('dark_corner', 'gel_border', 'gel_bubble', 'ink', 'patches'), ('dark_corner', 'gel_border', 'ruler', 'ink', 'patches'), ('dark_corner', 'gel_bubble', 'ruler', 'ink', 'patches'), ('hair', 'gel_border', 'gel_bubble', 'ruler', 'ink'), ('hair', 'gel_border', 'gel_bubble', 'ruler', 'patches'), ('hair', 'gel_border', 'gel_bubble', 'ink', 'patches'), ('hair', 'gel_border', 'ruler', 'ink', 'patches'), ('hair', 'gel_bubble', 'ruler', 'ink', 'patches'), ('gel_border', 'gel_bubble', 'ruler', 'ink', 'patches'), ('dark_corner', 'hair', 'gel_border', 'gel_bubble', 'ruler', 'ink'), ('dark_corner', 'hair', 'gel_border', 'gel_bubble', 'ruler', 'patches'), ('dark_corner', 'hair', 'gel_border', 'gel_bubble', 'ink', 'patches'), ('dark_corner', 'hair', 'gel_border', 'ruler', 'ink', 'patches'), ('dark_corner', 'hair', 'gel_bubble', 'ruler', 'ink', 'patches'), ('dark_corner', 'gel_border', 'gel_bubble', 'ruler', 'ink', 'patches'), ('hair', 'gel_border', 'gel_bubble', 'ruler', 'ink', 'patches'), ('dark_corner', 'hair', 'gel_border', 'gel_bubble', 'ruler', 'ink', 'patches')]\n"
     ]
    },
    {
     "ename": "KeyError",
     "evalue": "'dark_corner'",
     "output_type": "error",
     "traceback": [
      "\u001b[0;31m---------------------------------------------------------------------------\u001b[0m",
      "\u001b[0;31mKeyError\u001b[0m                                  Traceback (most recent call last)",
      "\u001b[0;32m~/miniconda3/lib/python3.7/site-packages/pandas/core/indexes/base.py\u001b[0m in \u001b[0;36mget_loc\u001b[0;34m(self, key, method, tolerance)\u001b[0m\n\u001b[1;32m   3079\u001b[0m             \u001b[0;32mtry\u001b[0m\u001b[0;34m:\u001b[0m\u001b[0;34m\u001b[0m\u001b[0;34m\u001b[0m\u001b[0m\n\u001b[0;32m-> 3080\u001b[0;31m                 \u001b[0;32mreturn\u001b[0m \u001b[0mself\u001b[0m\u001b[0;34m.\u001b[0m\u001b[0m_engine\u001b[0m\u001b[0;34m.\u001b[0m\u001b[0mget_loc\u001b[0m\u001b[0;34m(\u001b[0m\u001b[0mcasted_key\u001b[0m\u001b[0;34m)\u001b[0m\u001b[0;34m\u001b[0m\u001b[0;34m\u001b[0m\u001b[0m\n\u001b[0m\u001b[1;32m   3081\u001b[0m             \u001b[0;32mexcept\u001b[0m \u001b[0mKeyError\u001b[0m \u001b[0;32mas\u001b[0m \u001b[0merr\u001b[0m\u001b[0;34m:\u001b[0m\u001b[0;34m\u001b[0m\u001b[0;34m\u001b[0m\u001b[0m\n",
      "\u001b[0;32mpandas/_libs/index.pyx\u001b[0m in \u001b[0;36mpandas._libs.index.IndexEngine.get_loc\u001b[0;34m()\u001b[0m\n",
      "\u001b[0;32mpandas/_libs/index.pyx\u001b[0m in \u001b[0;36mpandas._libs.index.IndexEngine.get_loc\u001b[0;34m()\u001b[0m\n",
      "\u001b[0;32mpandas/_libs/hashtable_class_helper.pxi\u001b[0m in \u001b[0;36mpandas._libs.hashtable.PyObjectHashTable.get_item\u001b[0;34m()\u001b[0m\n",
      "\u001b[0;32mpandas/_libs/hashtable_class_helper.pxi\u001b[0m in \u001b[0;36mpandas._libs.hashtable.PyObjectHashTable.get_item\u001b[0;34m()\u001b[0m\n",
      "\u001b[0;31mKeyError\u001b[0m: 'dark_corner'",
      "\nThe above exception was the direct cause of the following exception:\n",
      "\u001b[0;31mKeyError\u001b[0m                                  Traceback (most recent call last)",
      "\u001b[0;32m<ipython-input-17-79126b862d3d>\u001b[0m in \u001b[0;36m<module>\u001b[0;34m\u001b[0m\n\u001b[1;32m      2\u001b[0m \u001b[0mroot\u001b[0m \u001b[0;34m=\u001b[0m \u001b[0;34m'/deconstructing-bias-skin-lesion/isic-archive'\u001b[0m\u001b[0;34m\u001b[0m\u001b[0;34m\u001b[0m\u001b[0m\n\u001b[1;32m      3\u001b[0m \u001b[0mcsv\u001b[0m \u001b[0;34m=\u001b[0m \u001b[0;34m'/DomainBed/domainbed/trap_sets_paper2021/train_bias_0.7_4.csv'\u001b[0m\u001b[0;34m\u001b[0m\u001b[0;34m\u001b[0m\u001b[0m\n\u001b[0;32m----> 4\u001b[0;31m \u001b[0ma\u001b[0m \u001b[0;34m=\u001b[0m \u001b[0mISIC2019\u001b[0m\u001b[0;34m(\u001b[0m\u001b[0mroot\u001b[0m\u001b[0;34m,\u001b[0m \u001b[0mcsv\u001b[0m\u001b[0;34m,\u001b[0m \u001b[0;32mFalse\u001b[0m\u001b[0;34m)\u001b[0m\u001b[0;34m\u001b[0m\u001b[0;34m\u001b[0m\u001b[0m\n\u001b[0m",
      "\u001b[0;32m/DomainBed/domainbed/datasets.py\u001b[0m in \u001b[0;36m__init__\u001b[0;34m(self, root, csv, augment)\u001b[0m\n\u001b[1;32m    259\u001b[0m                 \u001b[0menv_transform\u001b[0m \u001b[0;34m=\u001b[0m \u001b[0mtransform\u001b[0m\u001b[0;34m\u001b[0m\u001b[0;34m\u001b[0m\u001b[0m\n\u001b[1;32m    260\u001b[0m \u001b[0;34m\u001b[0m\u001b[0m\n\u001b[0;32m--> 261\u001b[0;31m             \u001b[0menv_dataset\u001b[0m \u001b[0;34m=\u001b[0m \u001b[0mCSVDatasetWithName\u001b[0m\u001b[0;34m(\u001b[0m\u001b[0mroot\u001b[0m\u001b[0;34m,\u001b[0m \u001b[0mcsv\u001b[0m\u001b[0;34m,\u001b[0m \u001b[0;34m'image'\u001b[0m\u001b[0;34m,\u001b[0m \u001b[0;34m'label'\u001b[0m\u001b[0;34m,\u001b[0m \u001b[0mtransform\u001b[0m\u001b[0;34m=\u001b[0m\u001b[0mtransform\u001b[0m\u001b[0;34m,\u001b[0m \u001b[0madd_extension\u001b[0m\u001b[0;34m=\u001b[0m\u001b[0;34m'.jpg'\u001b[0m\u001b[0;34m,\u001b[0m \u001b[0menvironment\u001b[0m\u001b[0;34m=\u001b[0m\u001b[0mcomb\u001b[0m\u001b[0;34m)\u001b[0m\u001b[0;34m\u001b[0m\u001b[0;34m\u001b[0m\u001b[0m\n\u001b[0m\u001b[1;32m    262\u001b[0m \u001b[0;34m\u001b[0m\u001b[0m\n\u001b[1;32m    263\u001b[0m             \u001b[0mself\u001b[0m\u001b[0;34m.\u001b[0m\u001b[0mdatasets\u001b[0m\u001b[0;34m.\u001b[0m\u001b[0mappend\u001b[0m\u001b[0;34m(\u001b[0m\u001b[0menv_dataset\u001b[0m\u001b[0;34m)\u001b[0m\u001b[0;34m\u001b[0m\u001b[0;34m\u001b[0m\u001b[0m\n",
      "\u001b[0;32m/DomainBed/domainbed/dataset_loader.py\u001b[0m in \u001b[0;36m__init__\u001b[0;34m(self, root, csv_file, image_field, target_field, loader, transform, target_transform, add_extension, limit, random_subset_size, split, environment)\u001b[0m\n\u001b[1;32m     32\u001b[0m                     \u001b[0mself\u001b[0m\u001b[0;34m.\u001b[0m\u001b[0mdata\u001b[0m \u001b[0;34m=\u001b[0m \u001b[0mself\u001b[0m\u001b[0;34m.\u001b[0m\u001b[0mdata\u001b[0m\u001b[0;34m[\u001b[0m\u001b[0mself\u001b[0m\u001b[0;34m.\u001b[0m\u001b[0mdata\u001b[0m\u001b[0;34m[\u001b[0m\u001b[0menv\u001b[0m\u001b[0;34m]\u001b[0m \u001b[0;34m>=\u001b[0m \u001b[0;36m0.6\u001b[0m\u001b[0;34m]\u001b[0m\u001b[0;34m\u001b[0m\u001b[0;34m\u001b[0m\u001b[0m\n\u001b[1;32m     33\u001b[0m                 \u001b[0;32melse\u001b[0m\u001b[0;34m:\u001b[0m\u001b[0;34m\u001b[0m\u001b[0;34m\u001b[0m\u001b[0m\n\u001b[0;32m---> 34\u001b[0;31m                     \u001b[0mself\u001b[0m\u001b[0;34m.\u001b[0m\u001b[0mdata\u001b[0m \u001b[0;34m=\u001b[0m \u001b[0mself\u001b[0m\u001b[0;34m.\u001b[0m\u001b[0mdata\u001b[0m\u001b[0;34m[\u001b[0m\u001b[0mself\u001b[0m\u001b[0;34m.\u001b[0m\u001b[0mdata\u001b[0m\u001b[0;34m[\u001b[0m\u001b[0menv\u001b[0m\u001b[0;34m]\u001b[0m \u001b[0;34m<=\u001b[0m \u001b[0;36m0.6\u001b[0m\u001b[0;34m]\u001b[0m\u001b[0;34m\u001b[0m\u001b[0;34m\u001b[0m\u001b[0m\n\u001b[0m\u001b[1;32m     35\u001b[0m             \u001b[0mself\u001b[0m\u001b[0;34m.\u001b[0m\u001b[0mdata\u001b[0m \u001b[0;34m=\u001b[0m \u001b[0mself\u001b[0m\u001b[0;34m.\u001b[0m\u001b[0mdata\u001b[0m\u001b[0;34m.\u001b[0m\u001b[0mreset_index\u001b[0m\u001b[0;34m(\u001b[0m\u001b[0;34m)\u001b[0m\u001b[0;34m\u001b[0m\u001b[0;34m\u001b[0m\u001b[0m\n\u001b[1;32m     36\u001b[0m \u001b[0;34m\u001b[0m\u001b[0m\n",
      "\u001b[0;32m~/miniconda3/lib/python3.7/site-packages/pandas/core/frame.py\u001b[0m in \u001b[0;36m__getitem__\u001b[0;34m(self, key)\u001b[0m\n\u001b[1;32m   3022\u001b[0m             \u001b[0;32mif\u001b[0m \u001b[0mself\u001b[0m\u001b[0;34m.\u001b[0m\u001b[0mcolumns\u001b[0m\u001b[0;34m.\u001b[0m\u001b[0mnlevels\u001b[0m \u001b[0;34m>\u001b[0m \u001b[0;36m1\u001b[0m\u001b[0;34m:\u001b[0m\u001b[0;34m\u001b[0m\u001b[0;34m\u001b[0m\u001b[0m\n\u001b[1;32m   3023\u001b[0m                 \u001b[0;32mreturn\u001b[0m \u001b[0mself\u001b[0m\u001b[0;34m.\u001b[0m\u001b[0m_getitem_multilevel\u001b[0m\u001b[0;34m(\u001b[0m\u001b[0mkey\u001b[0m\u001b[0;34m)\u001b[0m\u001b[0;34m\u001b[0m\u001b[0;34m\u001b[0m\u001b[0m\n\u001b[0;32m-> 3024\u001b[0;31m             \u001b[0mindexer\u001b[0m \u001b[0;34m=\u001b[0m \u001b[0mself\u001b[0m\u001b[0;34m.\u001b[0m\u001b[0mcolumns\u001b[0m\u001b[0;34m.\u001b[0m\u001b[0mget_loc\u001b[0m\u001b[0;34m(\u001b[0m\u001b[0mkey\u001b[0m\u001b[0;34m)\u001b[0m\u001b[0;34m\u001b[0m\u001b[0;34m\u001b[0m\u001b[0m\n\u001b[0m\u001b[1;32m   3025\u001b[0m             \u001b[0;32mif\u001b[0m \u001b[0mis_integer\u001b[0m\u001b[0;34m(\u001b[0m\u001b[0mindexer\u001b[0m\u001b[0;34m)\u001b[0m\u001b[0;34m:\u001b[0m\u001b[0;34m\u001b[0m\u001b[0;34m\u001b[0m\u001b[0m\n\u001b[1;32m   3026\u001b[0m                 \u001b[0mindexer\u001b[0m \u001b[0;34m=\u001b[0m \u001b[0;34m[\u001b[0m\u001b[0mindexer\u001b[0m\u001b[0;34m]\u001b[0m\u001b[0;34m\u001b[0m\u001b[0;34m\u001b[0m\u001b[0m\n",
      "\u001b[0;32m~/miniconda3/lib/python3.7/site-packages/pandas/core/indexes/base.py\u001b[0m in \u001b[0;36mget_loc\u001b[0;34m(self, key, method, tolerance)\u001b[0m\n\u001b[1;32m   3080\u001b[0m                 \u001b[0;32mreturn\u001b[0m \u001b[0mself\u001b[0m\u001b[0;34m.\u001b[0m\u001b[0m_engine\u001b[0m\u001b[0;34m.\u001b[0m\u001b[0mget_loc\u001b[0m\u001b[0;34m(\u001b[0m\u001b[0mcasted_key\u001b[0m\u001b[0;34m)\u001b[0m\u001b[0;34m\u001b[0m\u001b[0;34m\u001b[0m\u001b[0m\n\u001b[1;32m   3081\u001b[0m             \u001b[0;32mexcept\u001b[0m \u001b[0mKeyError\u001b[0m \u001b[0;32mas\u001b[0m \u001b[0merr\u001b[0m\u001b[0;34m:\u001b[0m\u001b[0;34m\u001b[0m\u001b[0;34m\u001b[0m\u001b[0m\n\u001b[0;32m-> 3082\u001b[0;31m                 \u001b[0;32mraise\u001b[0m \u001b[0mKeyError\u001b[0m\u001b[0;34m(\u001b[0m\u001b[0mkey\u001b[0m\u001b[0;34m)\u001b[0m \u001b[0;32mfrom\u001b[0m \u001b[0merr\u001b[0m\u001b[0;34m\u001b[0m\u001b[0;34m\u001b[0m\u001b[0m\n\u001b[0m\u001b[1;32m   3083\u001b[0m \u001b[0;34m\u001b[0m\u001b[0m\n\u001b[1;32m   3084\u001b[0m         \u001b[0;32mif\u001b[0m \u001b[0mtolerance\u001b[0m \u001b[0;32mis\u001b[0m \u001b[0;32mnot\u001b[0m \u001b[0;32mNone\u001b[0m\u001b[0;34m:\u001b[0m\u001b[0;34m\u001b[0m\u001b[0;34m\u001b[0m\u001b[0m\n",
      "\u001b[0;31mKeyError\u001b[0m: 'dark_corner'"
     ]
    }
   ],
   "source": [
    "from datasets import ISIC2019\n",
    "root = '/deconstructing-bias-skin-lesion/isic-archive'\n",
    "csv = '/DomainBed/domainbed/trap_sets_paper2021/train_bias_0.7_4.csv'\n",
    "a = ISIC2019(root, csv, False)\n"
   ]
  },
  {
   "cell_type": "code",
   "execution_count": 22,
   "id": "serial-brass",
   "metadata": {},
   "outputs": [],
   "source": []
  },
  {
   "cell_type": "code",
   "execution_count": 23,
   "id": "forced-registration",
   "metadata": {},
   "outputs": [
    {
     "data": {
      "text/html": [
       "<div>\n",
       "<style scoped>\n",
       "    .dataframe tbody tr th:only-of-type {\n",
       "        vertical-align: middle;\n",
       "    }\n",
       "\n",
       "    .dataframe tbody tr th {\n",
       "        vertical-align: top;\n",
       "    }\n",
       "\n",
       "    .dataframe thead th {\n",
       "        text-align: right;\n",
       "    }\n",
       "</style>\n",
       "<table border=\"1\" class=\"dataframe\">\n",
       "  <thead>\n",
       "    <tr style=\"text-align: right;\">\n",
       "      <th></th>\n",
       "      <th>Unnamed: 0</th>\n",
       "      <th>image</th>\n",
       "      <th>dark_corner</th>\n",
       "      <th>hair</th>\n",
       "      <th>gel_border</th>\n",
       "      <th>gel_bubble</th>\n",
       "      <th>ruler</th>\n",
       "      <th>ink</th>\n",
       "      <th>patches</th>\n",
       "      <th>vasc</th>\n",
       "      <th>label</th>\n",
       "      <th>label_string</th>\n",
       "    </tr>\n",
       "  </thead>\n",
       "  <tbody>\n",
       "    <tr>\n",
       "      <th>0</th>\n",
       "      <td>0</td>\n",
       "      <td>ISIC_0000004</td>\n",
       "      <td>0.998930</td>\n",
       "      <td>0.928666</td>\n",
       "      <td>0.058840</td>\n",
       "      <td>0.009549</td>\n",
       "      <td>0.978695</td>\n",
       "      <td>0.000168</td>\n",
       "      <td>0.002042</td>\n",
       "      <td>0.034614</td>\n",
       "      <td>1</td>\n",
       "      <td>malignant</td>\n",
       "    </tr>\n",
       "    <tr>\n",
       "      <th>1</th>\n",
       "      <td>1</td>\n",
       "      <td>ISIC_0000013</td>\n",
       "      <td>0.021295</td>\n",
       "      <td>0.048523</td>\n",
       "      <td>0.000719</td>\n",
       "      <td>0.016114</td>\n",
       "      <td>0.000192</td>\n",
       "      <td>0.000209</td>\n",
       "      <td>0.000104</td>\n",
       "      <td>0.000734</td>\n",
       "      <td>1</td>\n",
       "      <td>malignant</td>\n",
       "    </tr>\n",
       "    <tr>\n",
       "      <th>2</th>\n",
       "      <td>5</td>\n",
       "      <td>ISIC_0000030</td>\n",
       "      <td>0.995578</td>\n",
       "      <td>0.006716</td>\n",
       "      <td>0.003354</td>\n",
       "      <td>0.010026</td>\n",
       "      <td>0.070914</td>\n",
       "      <td>0.002430</td>\n",
       "      <td>0.000354</td>\n",
       "      <td>0.010245</td>\n",
       "      <td>1</td>\n",
       "      <td>malignant</td>\n",
       "    </tr>\n",
       "    <tr>\n",
       "      <th>3</th>\n",
       "      <td>6</td>\n",
       "      <td>ISIC_0000031</td>\n",
       "      <td>0.934828</td>\n",
       "      <td>0.047271</td>\n",
       "      <td>0.011707</td>\n",
       "      <td>0.505901</td>\n",
       "      <td>0.345400</td>\n",
       "      <td>0.000724</td>\n",
       "      <td>0.000241</td>\n",
       "      <td>0.399317</td>\n",
       "      <td>1</td>\n",
       "      <td>malignant</td>\n",
       "    </tr>\n",
       "    <tr>\n",
       "      <th>4</th>\n",
       "      <td>7</td>\n",
       "      <td>ISIC_0000035</td>\n",
       "      <td>0.996141</td>\n",
       "      <td>0.023658</td>\n",
       "      <td>0.006668</td>\n",
       "      <td>0.836428</td>\n",
       "      <td>0.000551</td>\n",
       "      <td>0.000063</td>\n",
       "      <td>0.000310</td>\n",
       "      <td>0.002962</td>\n",
       "      <td>1</td>\n",
       "      <td>malignant</td>\n",
       "    </tr>\n",
       "    <tr>\n",
       "      <th>...</th>\n",
       "      <td>...</td>\n",
       "      <td>...</td>\n",
       "      <td>...</td>\n",
       "      <td>...</td>\n",
       "      <td>...</td>\n",
       "      <td>...</td>\n",
       "      <td>...</td>\n",
       "      <td>...</td>\n",
       "      <td>...</td>\n",
       "      <td>...</td>\n",
       "      <td>...</td>\n",
       "      <td>...</td>\n",
       "    </tr>\n",
       "    <tr>\n",
       "      <th>12421</th>\n",
       "      <td>20593</td>\n",
       "      <td>ISIC_0063056</td>\n",
       "      <td>0.005082</td>\n",
       "      <td>0.994466</td>\n",
       "      <td>0.002042</td>\n",
       "      <td>0.750062</td>\n",
       "      <td>0.000486</td>\n",
       "      <td>0.000255</td>\n",
       "      <td>0.000171</td>\n",
       "      <td>0.000617</td>\n",
       "      <td>1</td>\n",
       "      <td>malignant</td>\n",
       "    </tr>\n",
       "    <tr>\n",
       "      <th>12422</th>\n",
       "      <td>20595</td>\n",
       "      <td>ISIC_0067127</td>\n",
       "      <td>0.262018</td>\n",
       "      <td>0.405520</td>\n",
       "      <td>0.003174</td>\n",
       "      <td>0.693124</td>\n",
       "      <td>0.132093</td>\n",
       "      <td>0.002345</td>\n",
       "      <td>0.000643</td>\n",
       "      <td>0.181887</td>\n",
       "      <td>1</td>\n",
       "      <td>malignant</td>\n",
       "    </tr>\n",
       "    <tr>\n",
       "      <th>12423</th>\n",
       "      <td>20596</td>\n",
       "      <td>ISIC_0024679</td>\n",
       "      <td>0.461363</td>\n",
       "      <td>0.030826</td>\n",
       "      <td>0.004093</td>\n",
       "      <td>0.042469</td>\n",
       "      <td>0.507636</td>\n",
       "      <td>0.002448</td>\n",
       "      <td>0.000426</td>\n",
       "      <td>0.947369</td>\n",
       "      <td>1</td>\n",
       "      <td>malignant</td>\n",
       "    </tr>\n",
       "    <tr>\n",
       "      <th>12424</th>\n",
       "      <td>20597</td>\n",
       "      <td>ISIC_0032988</td>\n",
       "      <td>0.860683</td>\n",
       "      <td>0.987834</td>\n",
       "      <td>0.007602</td>\n",
       "      <td>0.289533</td>\n",
       "      <td>0.082365</td>\n",
       "      <td>0.001193</td>\n",
       "      <td>0.000538</td>\n",
       "      <td>0.133448</td>\n",
       "      <td>1</td>\n",
       "      <td>malignant</td>\n",
       "    </tr>\n",
       "    <tr>\n",
       "      <th>12425</th>\n",
       "      <td>20598</td>\n",
       "      <td>ISIC_0072099</td>\n",
       "      <td>1.000000</td>\n",
       "      <td>0.042944</td>\n",
       "      <td>0.362564</td>\n",
       "      <td>0.000659</td>\n",
       "      <td>0.970552</td>\n",
       "      <td>0.000647</td>\n",
       "      <td>0.000071</td>\n",
       "      <td>0.020425</td>\n",
       "      <td>1</td>\n",
       "      <td>malignant</td>\n",
       "    </tr>\n",
       "  </tbody>\n",
       "</table>\n",
       "<p>12426 rows × 12 columns</p>\n",
       "</div>"
      ],
      "text/plain": [
       "       Unnamed: 0         image  dark_corner      hair  gel_border  \\\n",
       "0               0  ISIC_0000004     0.998930  0.928666    0.058840   \n",
       "1               1  ISIC_0000013     0.021295  0.048523    0.000719   \n",
       "2               5  ISIC_0000030     0.995578  0.006716    0.003354   \n",
       "3               6  ISIC_0000031     0.934828  0.047271    0.011707   \n",
       "4               7  ISIC_0000035     0.996141  0.023658    0.006668   \n",
       "...           ...           ...          ...       ...         ...   \n",
       "12421       20593  ISIC_0063056     0.005082  0.994466    0.002042   \n",
       "12422       20595  ISIC_0067127     0.262018  0.405520    0.003174   \n",
       "12423       20596  ISIC_0024679     0.461363  0.030826    0.004093   \n",
       "12424       20597  ISIC_0032988     0.860683  0.987834    0.007602   \n",
       "12425       20598  ISIC_0072099     1.000000  0.042944    0.362564   \n",
       "\n",
       "       gel_bubble     ruler       ink   patches      vasc  label label_string  \n",
       "0        0.009549  0.978695  0.000168  0.002042  0.034614      1    malignant  \n",
       "1        0.016114  0.000192  0.000209  0.000104  0.000734      1    malignant  \n",
       "2        0.010026  0.070914  0.002430  0.000354  0.010245      1    malignant  \n",
       "3        0.505901  0.345400  0.000724  0.000241  0.399317      1    malignant  \n",
       "4        0.836428  0.000551  0.000063  0.000310  0.002962      1    malignant  \n",
       "...           ...       ...       ...       ...       ...    ...          ...  \n",
       "12421    0.750062  0.000486  0.000255  0.000171  0.000617      1    malignant  \n",
       "12422    0.693124  0.132093  0.002345  0.000643  0.181887      1    malignant  \n",
       "12423    0.042469  0.507636  0.002448  0.000426  0.947369      1    malignant  \n",
       "12424    0.289533  0.082365  0.001193  0.000538  0.133448      1    malignant  \n",
       "12425    0.000659  0.970552  0.000647  0.000071  0.020425      1    malignant  \n",
       "\n",
       "[12426 rows x 12 columns]"
      ]
     },
     "execution_count": 23,
     "metadata": {},
     "output_type": "execute_result"
    }
   ],
   "source": [
    "data"
   ]
  },
  {
   "cell_type": "code",
   "execution_count": 34,
   "id": "collectible-chart",
   "metadata": {},
   "outputs": [],
   "source": [
    "import pandas as pd\n",
    "data = pd.read_csv(csv)\n",
    "\n",
    "environments = [\"dark_corner\",\"hair\",\"gel_border\",\"gel_bubble\",\"ruler\",\"ink\",\"patches\"]\n",
    "combs = []\n",
    "for L in range(0, len(environments)+1):\n",
    "    for subset in itertools.combinations(environments, L):\n",
    "        combs.append(subset)\n",
    "        \n",
    "all_envs = [\"dark_corner\",\"hair\",\"gel_border\",\"gel_bubble\",\"ruler\",\"ink\",\"patches\"]\n",
    "sizes = []\n",
    "for environment in combs:\n",
    "    data = pd.read_csv(csv)\n",
    "    for env in all_envs:\n",
    "        if env in environment:\n",
    "            data = data[data[env] >= 0.6]\n",
    "        else:\n",
    "            data = data[data[env] <= 0.6]\n",
    "    data = data.reset_index()\n",
    "    sizes.append(len(data))"
   ]
  },
  {
   "cell_type": "code",
   "execution_count": 36,
   "id": "final-heather",
   "metadata": {},
   "outputs": [
    {
     "name": "stdout",
     "output_type": "stream",
     "text": [
      "12426\n"
     ]
    }
   ],
   "source": [
    "import numpy as np\n",
    "print(np.sum(sizes))"
   ]
  },
  {
   "cell_type": "code",
   "execution_count": 38,
   "id": "contemporary-credit",
   "metadata": {},
   "outputs": [],
   "source": [
    "from PIL import Image"
   ]
  },
  {
   "cell_type": "code",
   "execution_count": 41,
   "id": "frozen-berlin",
   "metadata": {},
   "outputs": [],
   "source": [
    "a = Image.open('/deconstructing-bias-skin-lesion/ISIC-Archive-Downloader/Data/Images/ISIC_0013862.jpeg')"
   ]
  },
  {
   "cell_type": "code",
   "execution_count": 44,
   "id": "talented-athletics",
   "metadata": {},
   "outputs": [
    {
     "name": "stdout",
     "output_type": "stream",
     "text": [
      "0.12auc\n",
      "0.12auc\n"
     ]
    }
   ],
   "source": [
    "a = 0.1232131242323123\n",
    "print(\"%.2fauc\" % a)\n",
    "print(\"{:.2f}auc\".format(a))"
   ]
  },
  {
   "cell_type": "code",
   "execution_count": null,
   "id": "constant-metadata",
   "metadata": {},
   "outputs": [],
   "source": []
  }
 ],
 "metadata": {
  "kernelspec": {
   "display_name": "Python 3",
   "language": "python",
   "name": "python3"
  },
  "language_info": {
   "codemirror_mode": {
    "name": "ipython",
    "version": 3
   },
   "file_extension": ".py",
   "mimetype": "text/x-python",
   "name": "python",
   "nbconvert_exporter": "python",
   "pygments_lexer": "ipython3",
   "version": "3.7.7"
  }
 },
 "nbformat": 4,
 "nbformat_minor": 5
}
